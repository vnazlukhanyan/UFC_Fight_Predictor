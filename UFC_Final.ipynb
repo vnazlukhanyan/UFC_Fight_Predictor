{
 "cells": [
  {
   "cell_type": "markdown",
   "metadata": {},
   "source": [
    "# UFC Fight Predictor"
   ]
  },
  {
   "cell_type": "code",
   "execution_count": 1,
   "metadata": {},
   "outputs": [],
   "source": [
    "from   category_encoders          import *\n",
    "import numpy as np\n",
    "import pandas as pd\n",
    "# Saving model\n",
    "import pickle\n",
    "import warnings\n",
    "warnings.filterwarnings('ignore')\n",
    "\n",
    "from   sklearn.compose            import *\n",
    "from   sklearn.ensemble           import RandomForestClassifier, ExtraTreesClassifier\n",
    "from   sklearn.metrics            import accuracy_score \n",
    "from   sklearn.pipeline           import Pipeline\n",
    "from   sklearn.preprocessing      import *\n",
    "from   sklearn.model_selection    import RandomizedSearchCV\n",
    "from   sklearn.model_selection    import train_test_split\n",
    "# Imputing\n",
    "from   sklearn.impute             import KNNImputer\n",
    "# Feature importance\n",
    "from   sklearn.inspection         import permutation_importance"
   ]
  },
  {
   "cell_type": "markdown",
   "metadata": {},
   "source": [
    "# Research Question / Hypothesis\n",
    "### Research Question\n",
    "- How accurately could we predict who wins a fight in the UFC given a variety of fighter features?\n",
    "- What are the most important factors/features that lead to a fighter securing a win?\n",
    "\n",
    "### Hypothesis\n",
    "- The most important features should be the most obvious: a fighter's fight record, their age, and higher average strikes, submissions, and takedowns. I will perform a feature importance criterion to assess this hypothesis."
   ]
  },
  {
   "cell_type": "markdown",
   "metadata": {},
   "source": [
    "## Exploratory Data Analysis"
   ]
  },
  {
   "cell_type": "code",
   "execution_count": 2,
   "metadata": {},
   "outputs": [
    {
     "data": {
      "text/plain": [
       "(4566, 137)"
      ]
     },
     "execution_count": 2,
     "metadata": {},
     "output_type": "execute_result"
    }
   ],
   "source": [
    "df = pd.read_csv('ufc-master.csv')\n",
    "df.shape"
   ]
  },
  {
   "cell_type": "markdown",
   "metadata": {},
   "source": [
    "#### Mixed Types for Columns (79, 80)"
   ]
  },
  {
   "cell_type": "code",
   "execution_count": 3,
   "metadata": {},
   "outputs": [
    {
     "data": {
      "text/plain": [
       "array(['6', '4', nan, '13', 'Dustin Poirier', 'Dan Hooker', 'Jessica Eye',\n",
       "       'Andrew Sanchez', 'Marina Rodriguez', 'Brad Tavares',\n",
       "       'Julianna Pena', 'Khalil Rountree Jr.', 'Nik Lentz', 'Amir Albazi',\n",
       "       '9', '3', '15', '12', '8', '1', '2', '10', '5', '14', '7', '11'],\n",
       "      dtype=object)"
      ]
     },
     "execution_count": 3,
     "metadata": {},
     "output_type": "execute_result"
    }
   ],
   "source": [
    "df.loc[:,'B_match_weightclass_rank'].unique()"
   ]
  },
  {
   "cell_type": "code",
   "execution_count": 4,
   "metadata": {},
   "outputs": [
    {
     "data": {
      "text/plain": [
       "array(['5', '2', '10', nan, 'Conor McGregor', 'Michael Chandler',\n",
       "       'Joanne Calderwood', 'Makhmud Muradov', 'Amanda Ribas',\n",
       "       'Antonio Carlos Junior', 'Sara McMann', 'Marcin Prachnio',\n",
       "       'Movsar Evloev', 'Zhalgas Zhumagulov', '8', '9', '13', '1', '4',\n",
       "       '15', '6', '0', '14', '7', '11', '12', '3'], dtype=object)"
      ]
     },
     "execution_count": 4,
     "metadata": {},
     "output_type": "execute_result"
    }
   ],
   "source": [
    "df.loc[:,'R_match_weightclass_rank'].unique()"
   ]
  },
  {
   "cell_type": "markdown",
   "metadata": {},
   "source": [
    "According to docs, these columns are \"Rank in the weightclass this bout takes place in\", let's drop for simplicity."
   ]
  },
  {
   "cell_type": "markdown",
   "metadata": {},
   "source": [
    "#### Label Column (Winner)"
   ]
  },
  {
   "cell_type": "code",
   "execution_count": 5,
   "metadata": {},
   "outputs": [
    {
     "data": {
      "text/plain": [
       "array(['Blue', 'Red'], dtype=object)"
      ]
     },
     "execution_count": 5,
     "metadata": {},
     "output_type": "execute_result"
    }
   ],
   "source": [
    "df['Winner'].unique()"
   ]
  },
  {
   "cell_type": "markdown",
   "metadata": {},
   "source": [
    "## Data Preprocessing\n",
    "- Remove all columns that contain information about fight after fight is over\n",
    "- Remove features that are not relevant to prediction\n",
    "- Remove codependent columns with redundant information"
   ]
  },
  {
   "cell_type": "code",
   "execution_count": 6,
   "metadata": {},
   "outputs": [],
   "source": [
    "class HandPickedFeatureFilter:\n",
    "    def __init__(self):\n",
    "        self.picked_feats = [\n",
    "            'R_odds', 'B_odds', 'gender',\n",
    "            'B_avg_SIG_STR_landed', 'R_avg_SIG_STR_landed',\n",
    "            'B_avg_SIG_STR_pct', 'R_avg_SIG_STR_pct',\n",
    "            'B_avg_SUB_ATT', 'R_avg_SUB_ATT',\n",
    "            'B_avg_TD_landed', 'R_avg_TD_landed',\n",
    "            'B_avg_TD_pct', 'R_avg_TD_pct',\n",
    "            'B_losses', 'R_losses',\n",
    "            'B_wins', 'R_wins',\n",
    "            'B_Stance', 'R_Stance',\n",
    "            'B_Height_cms', 'R_Height_cms',\n",
    "            'B_Reach_cms', 'R_Reach_cms',\n",
    "            'B_age', 'R_age','Winner']\n",
    "    \n",
    "    def transform(self, X, **transform_params):\n",
    "        df_copy = X.copy()\n",
    "        df_copy = df_copy.filter(self.picked_feats)\n",
    "        return df_copy\n",
    "\n",
    "    def fit(self, X, y=None, **fit_params):\n",
    "        return self\n",
    "\n",
    "class EncodeVars:\n",
    "    def __init__(self):\n",
    "        pass\n",
    "    \n",
    "    def transform(self, X, **transform_params):\n",
    "        # Encode \"Blue\" as 0 and \"Red\" as 1\n",
    "        def encode_win(x):\n",
    "            if x is np.nan:\n",
    "                return x\n",
    "            if x == 'neither':\n",
    "                return np.nan\n",
    "            if x.lower() == 'blue':\n",
    "                return 0\n",
    "            elif x.lower() == 'red':\n",
    "                return 1\n",
    "            \n",
    "        # Remove white space\n",
    "        def encode_stance(x):\n",
    "            return x.strip()\n",
    "        \n",
    "        df_copy = X.copy()\n",
    "        df_copy['Winner'] = df_copy['Winner'].apply(encode_win)\n",
    "        df_copy['B_Stance'] = df_copy['B_Stance'].apply(encode_stance)\n",
    "        return df_copy\n",
    "\n",
    "    def fit(self, X, y=None, **fit_params):\n",
    "        return self"
   ]
  },
  {
   "cell_type": "code",
   "execution_count": 7,
   "metadata": {},
   "outputs": [],
   "source": [
    "pipe = Pipeline([('hand_pick', HandPickedFeatureFilter()),\n",
    "                 ('encode_vars', EncodeVars())])\n",
    "X = pipe.transform(df).iloc[:,:-1]\n",
    "y = pipe.transform(df).iloc[:,-1]"
   ]
  },
  {
   "cell_type": "code",
   "execution_count": 8,
   "metadata": {},
   "outputs": [
    {
     "name": "stdout",
     "output_type": "stream",
     "text": [
      "<class 'pandas.core.frame.DataFrame'>\n",
      "RangeIndex: 4566 entries, 0 to 4565\n",
      "Data columns (total 25 columns):\n",
      " #   Column                Non-Null Count  Dtype  \n",
      "---  ------                --------------  -----  \n",
      " 0   R_odds                4566 non-null   int64  \n",
      " 1   B_odds                4566 non-null   int64  \n",
      " 2   gender                4566 non-null   object \n",
      " 3   B_avg_SIG_STR_landed  3636 non-null   float64\n",
      " 4   R_avg_SIG_STR_landed  4111 non-null   float64\n",
      " 5   B_avg_SIG_STR_pct     3801 non-null   float64\n",
      " 6   R_avg_SIG_STR_pct     4209 non-null   float64\n",
      " 7   B_avg_SUB_ATT         3734 non-null   float64\n",
      " 8   R_avg_SUB_ATT         4209 non-null   float64\n",
      " 9   B_avg_TD_landed       3733 non-null   float64\n",
      " 10  R_avg_TD_landed       4209 non-null   float64\n",
      " 11  B_avg_TD_pct          3724 non-null   float64\n",
      " 12  R_avg_TD_pct          4199 non-null   float64\n",
      " 13  B_losses              4566 non-null   int64  \n",
      " 14  R_losses              4566 non-null   int64  \n",
      " 15  B_wins                4566 non-null   int64  \n",
      " 16  R_wins                4566 non-null   int64  \n",
      " 17  B_Stance              4566 non-null   object \n",
      " 18  R_Stance              4566 non-null   object \n",
      " 19  B_Height_cms          4566 non-null   float64\n",
      " 20  R_Height_cms          4566 non-null   float64\n",
      " 21  B_Reach_cms           4566 non-null   float64\n",
      " 22  R_Reach_cms           4566 non-null   float64\n",
      " 23  B_age                 4566 non-null   int64  \n",
      " 24  R_age                 4566 non-null   int64  \n",
      "dtypes: float64(14), int64(8), object(3)\n",
      "memory usage: 891.9+ KB\n"
     ]
    }
   ],
   "source": [
    "X.info()"
   ]
  },
  {
   "cell_type": "markdown",
   "metadata": {},
   "source": [
    "## Create Data Processing Pipeline"
   ]
  },
  {
   "cell_type": "code",
   "execution_count": 9,
   "metadata": {},
   "outputs": [],
   "source": [
    "categorical_cols = (X.dtypes == object)"
   ]
  },
  {
   "cell_type": "code",
   "execution_count": 10,
   "metadata": {},
   "outputs": [],
   "source": [
    "def UFCPipe(clf):\n",
    "    con_pipe = Pipeline([('imputer', KNNImputer(n_neighbors=14, missing_values=np.nan)), \n",
    "                         ('scaler', StandardScaler())])\n",
    "\n",
    "    cat_pipe = Pipeline([('encoder', OneHotEncoder(handle_unknown='ignore'))])\n",
    "\n",
    "    preprocessing = ColumnTransformer([('categorical', cat_pipe,  categorical_cols), \n",
    "                                       ('continuous',  con_pipe, ~categorical_cols)])\n",
    "\n",
    "    pipe = Pipeline([('preprocessing', preprocessing), \n",
    "                     ('clf', clf)])\n",
    "    return pipe"
   ]
  },
  {
   "cell_type": "markdown",
   "metadata": {},
   "source": [
    "## Hyperparameter Tuning"
   ]
  },
  {
   "cell_type": "markdown",
   "metadata": {},
   "source": [
    "#### Train-test Split"
   ]
  },
  {
   "cell_type": "code",
   "execution_count": 11,
   "metadata": {},
   "outputs": [],
   "source": [
    "X_train, X_test, y_train, y_test = train_test_split(X, y, test_size=0.2, random_state=11)"
   ]
  },
  {
   "cell_type": "code",
   "execution_count": 12,
   "metadata": {},
   "outputs": [
    {
     "data": {
      "text/plain": [
       "((3652, 25), (914, 25), (3652,), (914,))"
      ]
     },
     "execution_count": 12,
     "metadata": {},
     "output_type": "execute_result"
    }
   ],
   "source": [
    "X_train.shape, X_test.shape, y_train.shape, y_test.shape"
   ]
  },
  {
   "cell_type": "code",
   "execution_count": 13,
   "metadata": {},
   "outputs": [],
   "source": [
    "candidates = {\n",
    "    ExtraTreesClassifier(n_jobs=-1, random_state=11): {\n",
    "        'clf__n_estimators': range(100,700),\n",
    "        'clf__criterion' : ['gini', 'entropy'],\n",
    "        'clf__min_samples_split' : [1,2,3,4,5],\n",
    "        'clf__min_samples_leaf' : [1,2,3,4,5],\n",
    "        'clf__max_features': [\"auto\", \"sqrt\", \"log2\"],\n",
    "        'clf__min_samples_leaf': [1,2,3,4]\n",
    "    },\n",
    "    RandomForestClassifier(n_jobs=-1, random_state=11): {\n",
    "        'clf__n_estimators': range(100,700),\n",
    "        'clf__criterion' : ['gini', 'entropy'],\n",
    "        'clf__min_samples_split' : [1,2,3,4,5],\n",
    "        'clf__min_samples_leaf' : [1,2,3,4,5],\n",
    "        'clf__max_features': [\"auto\", \"sqrt\", \"log2\"],\n",
    "        'clf__min_samples_leaf': [1,2,3,4]\n",
    "    }\n",
    "}"
   ]
  },
  {
   "cell_type": "code",
   "execution_count": 14,
   "metadata": {},
   "outputs": [],
   "source": [
    "# for candidate, hypers in candidates.items():\n",
    "#     pipe = UFCPipe(candidate)\n",
    "#     rscv = RandomizedSearchCV(\n",
    "#         estimator=pipe,\n",
    "#         param_distributions=hypers,\n",
    "#         n_jobs=-1,\n",
    "#         n_iter=150\n",
    "#     )\n",
    "    \n",
    "#     rscv.fit(X_train, y_train)\n",
    "    \n",
    "#     best_params = {\n",
    "#         k.replace('clf__', ''): v\n",
    "#         for k, v in rscv.best_params_.items()   \n",
    "#     }\n",
    "    \n",
    "#     print(f'{candidate} has best parameters:\\n\\n{best_params}\\n\\nWith best score {rscv.best_score_}')"
   ]
  },
  {
   "cell_type": "code",
   "execution_count": 15,
   "metadata": {},
   "outputs": [],
   "source": [
    "best_hypers = {'n_estimators': 522, 'min_samples_split': 2, 'min_samples_leaf': 4, 'max_features': 'auto', 'criterion': 'gini'}"
   ]
  },
  {
   "cell_type": "markdown",
   "metadata": {},
   "source": [
    "## Test Model on Hold-out Data"
   ]
  },
  {
   "cell_type": "code",
   "execution_count": 16,
   "metadata": {},
   "outputs": [
    {
     "name": "stdout",
     "output_type": "stream",
     "text": [
      "Final testing accuracy 64.66%\n"
     ]
    }
   ],
   "source": [
    "pipe = UFCPipe(RandomForestClassifier(**best_hypers, n_jobs=-1, random_state=11))\n",
    "pipe.fit(X_train, y_train)\n",
    "y_pred   = pipe.predict(X_test)\n",
    "acc_test = accuracy_score(y_test, y_pred)\n",
    "print(f'Final testing accuracy {round(acc_test*100,2)}%')"
   ]
  },
  {
   "cell_type": "markdown",
   "metadata": {},
   "source": [
    "## Feature Importance"
   ]
  },
  {
   "cell_type": "markdown",
   "metadata": {},
   "source": [
    "#### Permutation Importance"
   ]
  },
  {
   "cell_type": "code",
   "execution_count": 17,
   "metadata": {},
   "outputs": [],
   "source": [
    "# r = permutation_importance(pipe, X_test, y_test,\n",
    "#                            n_repeats=30,\n",
    "#                            random_state=0)\n",
    "\n",
    "# for i in r.importances_mean.argsort()[::-1]:\n",
    "#     print(f\"{np.array(X.columns)[i]:<8}\"\n",
    "#           f\"{r.importances_mean[i]:.3f}\"\n",
    "#           f\" +/- {r.importances_std[i]:.3f}\")"
   ]
  },
  {
   "cell_type": "markdown",
   "metadata": {},
   "source": [
    "## Train Final Model with all Data and Save"
   ]
  },
  {
   "cell_type": "code",
   "execution_count": 18,
   "metadata": {},
   "outputs": [
    {
     "name": "stdout",
     "output_type": "stream",
     "text": [
      "Fit\n"
     ]
    }
   ],
   "source": [
    "pipe = UFCPipe(RandomForestClassifier(**best_hypers, n_jobs=-1, random_state=11))\n",
    "pipe.fit(X, y)\n",
    "print('Fit')"
   ]
  },
  {
   "cell_type": "code",
   "execution_count": 19,
   "metadata": {},
   "outputs": [],
   "source": [
    "# with open('model.pkl', 'wb') as f:\n",
    "#     pickle.dump(pipe, f)"
   ]
  }
 ],
 "metadata": {
  "kernelspec": {
   "display_name": "Python 3",
   "language": "python",
   "name": "python3"
  },
  "language_info": {
   "codemirror_mode": {
    "name": "ipython",
    "version": 3
   },
   "file_extension": ".py",
   "mimetype": "text/x-python",
   "name": "python",
   "nbconvert_exporter": "python",
   "pygments_lexer": "ipython3",
   "version": "3.8.5"
  }
 },
 "nbformat": 4,
 "nbformat_minor": 4
}
